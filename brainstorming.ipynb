{
 "cells": [
  {
   "cell_type": "code",
   "execution_count": 1,
   "metadata": {},
   "outputs": [
    {
     "name": "stdout",
     "output_type": "stream",
     "text": [
      "(1, 7, 4)\n",
      "(8,)\n"
     ]
    }
   ],
   "source": [
    "import numpy as np\n",
    "data_single = np.array([[['dep_001', 'atlocation', 'room_000', {'current_time': 0}],\n",
    "        ['room_000', 'south', 'room_004', {'current_time': 0}],\n",
    "        ['room_000', 'north', 'wall', {'current_time': 0}],\n",
    "        ['agent', 'atlocation', 'room_000', {'current_time': 0}],\n",
    "        ['dep_007', 'atlocation', 'room_000', {'current_time': 0}],\n",
    "        ['room_000', 'west', 'wall', {'current_time': 0}],\n",
    "        ['room_000', 'east', 'room_001', {'current_time': 0}]]],\n",
    "      dtype=object)\n",
    "\n",
    "print(data_single.shape)\n",
    "\n",
    "data = np.array([list([['dep_007', 'atlocation', 'room_000', {'current_time': 2, 'strength': 1}], ['agent', 'atlocation', 'room_000', {'current_time': 2, 'strength': 1}], ['room_000', 'west', 'wall', {'current_time': 2, 'strength': 1}], ['room_000', 'north', 'wall', {'current_time': 2, 'strength': 1.8}], ['dep_001', 'atlocation', 'room_000', {'current_time': 2, 'timestamp': [0, 1]}], ['room_000', 'south', 'room_004', {'current_time': 2, 'timestamp': [1]}], ['room_000', 'east', 'room_001', {'current_time': 2, 'timestamp': [0], 'strength': 1}]]),\n",
    "       list([['room_005', 'east', 'room_006', {'current_time': 5}], ['agent', 'atlocation', 'room_005', {'current_time': 5}], ['room_005', 'south', 'wall', {'current_time': 5}], ['room_005', 'north', 'room_001', {'current_time': 5}], ['room_005', 'west', 'room_004', {'current_time': 5}], ['room_000', 'east', 'room_001', {'timestamp': [0], 'strength': 1}], ['agent', 'atlocation', 'room_000', {'timestamp': [0, 2, 3], 'strength': 1}], ['dep_001', 'atlocation', 'room_000', {'timestamp': [0, 1], 'strength': 1.62}], ['dep_007', 'atlocation', 'room_000', {'strength': 1, 'timestamp': [1]}], ['room_000', 'west', 'wall', {'timestamp': [1, 2], 'strength': 1}], ['room_000', 'north', 'wall', {'strength': 1}], ['room_000', 'south', 'room_004', {'timestamp': [3]}], ['room_004', 'south', 'wall', {'timestamp': [4]}], ['room_004', 'north', 'room_000', {'timestamp': [4]}]]),\n",
    "       list([['agent', 'atlocation', 'room_001', {'current_time': 9, 'strength': 1.3122000000000003, 'timestamp': [6, 7]}], ['room_001', 'west', 'room_000', {'current_time': 9, 'timestamp': [1, 6]}], ['room_001', 'south', 'room_005', {'current_time': 9, 'strength': 2.2680000000000002, 'timestamp': [5]}], ['room_001', 'north', 'wall', {'current_time': 9, 'timestamp': [1, 2], 'strength': 2.52}], ['room_001', 'east', 'wall', {'current_time': 9, 'strength': 2.1222000000000003, 'timestamp': [2, 6]}], ['dep_001', 'atlocation', 'room_000', {'strength': 1.0628820000000003, 'timestamp': [4]}], ['room_000', 'south', 'room_004', {'strength': 1, 'timestamp': [3, 4]}], ['room_000', 'east', 'room_001', {'timestamp': [0, 3]}], ['room_000', 'west', 'wall', {'timestamp': [0]}], ['agent', 'atlocation', 'room_000', {'timestamp': [0], 'strength': 1}], ['room_000', 'north', 'wall', {'timestamp': [0], 'strength': 1}], ['dep_007', 'atlocation', 'room_000', {'strength': 1}]]),\n",
    "       list([['dep_001', 'atlocation', 'room_000', {'current_time': 4, 'strength': 1.8, 'timestamp': [2]}], ['room_000', 'south', 'room_004', {'current_time': 4, 'timestamp': [3]}], ['room_000', 'east', 'room_001', {'current_time': 4, 'timestamp': [0]}], ['dep_007', 'atlocation', 'room_000', {'current_time': 4, 'strength': 1, 'timestamp': [3]}], ['room_000', 'west', 'wall', {'current_time': 4, 'strength': 1, 'timestamp': [2]}], ['room_000', 'north', 'wall', {'current_time': 4, 'strength': 1}], ['agent', 'atlocation', 'room_000', {'current_time': 4, 'timestamp': [0, 2], 'strength': 1}], ['room_004', 'south', 'wall', {'timestamp': [1]}], ['room_004', 'east', 'room_005', {'strength': 1}]]),\n",
    "       list([['agent', 'atlocation', 'room_004', {'current_time': 3, 'timestamp': [1, 2]}], ['room_004', 'north', 'room_000', {'current_time': 3, 'strength': 1}], ['room_004', 'south', 'wall', {'current_time': 3, 'strength': 1, 'timestamp': [2]}], ['room_004', 'west', 'wall', {'current_time': 3, 'timestamp': [1, 2]}], ['room_004', 'east', 'room_005', {'current_time': 3, 'timestamp': [1]}], ['room_000', 'west', 'wall', {'strength': 1}], ['room_000', 'south', 'room_004', {'timestamp': [0]}], ['room_000', 'north', 'wall', {'timestamp': [0]}], ['room_000', 'east', 'room_001', {'timestamp': [0]}], ['agent', 'atlocation', 'room_000', {'strength': 1}]]),\n",
    "       list([['room_004', 'north', 'room_000', {'current_time': 9, 'strength': 1}], ['agent', 'atlocation', 'room_004', {'current_time': 9, 'timestamp': [7], 'strength': 1}], ['room_004', 'south', 'wall', {'current_time': 9, 'strength': 1, 'timestamp': [7]}], ['room_004', 'east', 'room_005', {'current_time': 9}], ['room_004', 'west', 'wall', {'current_time': 9}], ['room_000', 'south', 'room_004', {'strength': 1}], ['room_005', 'north', 'room_001', {'timestamp': [2, 5], 'strength': 1}], ['room_006', 'east', 'room_007', {'timestamp': [3]}], ['room_006', 'west', 'room_005', {'strength': 1.1809800000000004}], ['sta_004', 'atlocation', 'room_006', {'strength': 1.1809800000000004}], ['agent', 'atlocation', 'room_006', {'timestamp': [4]}], ['room_005', 'east', 'room_006', {'strength': 1.4580000000000002}], ['room_005', 'south', 'wall', {'timestamp': [6]}], ['room_005', 'west', 'room_004', {'timestamp': [6]}]]),\n",
    "       list([['agent', 'atlocation', 'room_000', {'current_time': 4, 'strength': 1}], ['room_000', 'east', 'room_001', {'current_time': 4, 'timestamp': [0, 3]}], ['room_000', 'north', 'wall', {'current_time': 4, 'strength': 1.8}], ['room_000', 'west', 'wall', {'current_time': 4, 'strength': 1, 'timestamp': [1, 3]}], ['dep_001', 'atlocation', 'room_000', {'current_time': 4, 'timestamp': [0, 1, 3]}], ['dep_007', 'atlocation', 'room_000', {'current_time': 4, 'timestamp': [0], 'strength': 1}], ['room_000', 'south', 'room_004', {'current_time': 4, 'timestamp': [0, 1], 'strength': 1}], ['room_004', 'west', 'wall', {'strength': 1}], ['room_004', 'south', 'wall', {'timestamp': [2]}], ['room_004', 'north', 'room_000', {'timestamp': [2]}], ['room_004', 'east', 'room_005', {'strength': 1}]]),\n",
    "       list([['room_001', 'south', 'room_005', {'current_time': 5}], ['agent', 'atlocation', 'room_001', {'current_time': 5}], ['room_001', 'north', 'wall', {'current_time': 5}], ['room_001', 'east', 'wall', {'current_time': 5}], ['room_001', 'west', 'room_000', {'current_time': 5}], ['agent', 'atlocation', 'room_000', {'strength': 1, 'timestamp': [3]}], ['dep_001', 'atlocation', 'room_000', {'strength': 1, 'timestamp': [1, 2, 3]}], ['room_000', 'south', 'room_004', {'strength': 1.4580000000000002, 'timestamp': [3, 4]}], ['room_000', 'north', 'wall', {'strength': 3.168}], ['room_000', 'west', 'wall', {'strength': 1.62, 'timestamp': [2, 4]}], ['dep_007', 'atlocation', 'room_000', {'strength': 1.8, 'timestamp': [2, 3]}], ['room_000', 'east', 'room_001', {'timestamp': [3], 'strength': 1}]])],\n",
    "      dtype=object)\n",
    "\n",
    "print(data.shape)"
   ]
  }
 ],
 "metadata": {
  "kernelspec": {
   "display_name": "agent-room-env-v2-gnn",
   "language": "python",
   "name": "python3"
  },
  "language_info": {
   "codemirror_mode": {
    "name": "ipython",
    "version": 3
   },
   "file_extension": ".py",
   "mimetype": "text/x-python",
   "name": "python",
   "nbconvert_exporter": "python",
   "pygments_lexer": "ipython3",
   "version": "3.10.12"
  }
 },
 "nbformat": 4,
 "nbformat_minor": 2
}
