{
 "cells": [
  {
   "cell_type": "markdown",
   "metadata": {},
   "source": [
    "## Train MM / explore with random sampling\n"
   ]
  },
  {
   "cell_type": "code",
   "execution_count": 1,
   "metadata": {},
   "outputs": [
    {
     "name": "stderr",
     "output_type": "stream",
     "text": [
      "/home/tk/.virtualenvs/agent-room-env-v2-gnn/lib/python3.10/site-packages/tqdm/auto.py:21: TqdmWarning: IProgress not found. Please update jupyter and ipywidgets. See https://ipywidgets.readthedocs.io/en/stable/user_install.html\n",
      "  from .autonotebook import tqdm as notebook_tqdm\n",
      "0it [00:00, ?it/s]/home/tk/.virtualenvs/agent-room-env-v2-gnn/lib/python3.10/site-packages/gymnasium/utils/passive_env_checker.py:168: DeprecationWarning: \u001b[33mWARN: Current gymnasium version requires that `Env.reset` can be passed a `seed` instead of using `Env.seed` for resetting the environment random number generator.\u001b[0m\n",
      "  logger.deprecation(\n",
      "/home/tk/.virtualenvs/agent-room-env-v2-gnn/lib/python3.10/site-packages/gymnasium/utils/passive_env_checker.py:181: DeprecationWarning: \u001b[33mWARN: Current gymnasium version requires that `Env.reset` can be passed `options` to allow the environment initialisation to be passed additional information.\u001b[0m\n",
      "  logger.deprecation(\n",
      "/home/tk/.virtualenvs/agent-room-env-v2-gnn/lib/python3.10/site-packages/gymnasium/utils/passive_env_checker.py:127: UserWarning: \u001b[33mWARN: The obs returned by the `reset()` method should be an int or np.int64, actual type: <class 'dict'>\u001b[0m\n",
      "  logger.warn(f\"{pre} should be an int or np.int64, actual type: {type(obs)}\")\n",
      "/home/tk/.virtualenvs/agent-room-env-v2-gnn/lib/python3.10/site-packages/gymnasium/utils/passive_env_checker.py:159: UserWarning: \u001b[33mWARN: The obs returned by the `reset()` method is not within the observation space.\u001b[0m\n",
      "  logger.warn(f\"{pre} is not within the observation space.\")\n",
      "/home/tk/.virtualenvs/agent-room-env-v2-gnn/lib/python3.10/site-packages/gymnasium/utils/passive_env_checker.py:127: UserWarning: \u001b[33mWARN: The obs returned by the `step()` method should be an int or np.int64, actual type: <class 'dict'>\u001b[0m\n",
      "  logger.warn(f\"{pre} should be an int or np.int64, actual type: {type(obs)}\")\n",
      "/home/tk/.virtualenvs/agent-room-env-v2-gnn/lib/python3.10/site-packages/gymnasium/utils/passive_env_checker.py:159: UserWarning: \u001b[33mWARN: The obs returned by the `step()` method is not within the observation space.\u001b[0m\n",
      "  logger.warn(f\"{pre} is not within the observation space.\")\n"
     ]
    },
    {
     "name": "stdout",
     "output_type": "stream",
     "text": [
      "Running on cpu\n",
      "> \u001b[0;32m/home/tk/repos/agent-room-env-v2-gnn/agent/dqn/nn/gnn.py\u001b[0m(420)\u001b[0;36mprocess_batch\u001b[0;34m()\u001b[0m\n",
      "\u001b[0;32m    418 \u001b[0;31m            \u001b[0;32mimport\u001b[0m \u001b[0mpdb\u001b[0m\u001b[0;34m;\u001b[0m \u001b[0mpdb\u001b[0m\u001b[0;34m.\u001b[0m\u001b[0mset_trace\u001b[0m\u001b[0;34m(\u001b[0m\u001b[0;34m)\u001b[0m\u001b[0;34m\u001b[0m\u001b[0;34m\u001b[0m\u001b[0m\n",
      "\u001b[0m\u001b[0;32m    419 \u001b[0;31m\u001b[0;34m\u001b[0m\u001b[0m\n",
      "\u001b[0m\u001b[0;32m--> 420 \u001b[0;31m        \u001b[0mshort_memory_idx\u001b[0m \u001b[0;34m=\u001b[0m \u001b[0mtorch\u001b[0m\u001b[0;34m.\u001b[0m\u001b[0mcat\u001b[0m\u001b[0;34m(\u001b[0m\u001b[0mshort_memory_idx\u001b[0m\u001b[0;34m,\u001b[0m \u001b[0mdim\u001b[0m\u001b[0;34m=\u001b[0m\u001b[0;36m0\u001b[0m\u001b[0;34m)\u001b[0m\u001b[0;34m\u001b[0m\u001b[0;34m\u001b[0m\u001b[0m\n",
      "\u001b[0m\u001b[0;32m    421 \u001b[0;31m        \u001b[0magent_entity_index\u001b[0m \u001b[0;34m=\u001b[0m \u001b[0mtorch\u001b[0m\u001b[0;34m.\u001b[0m\u001b[0mtensor\u001b[0m\u001b[0;34m(\u001b[0m\u001b[0magent_entity_index\u001b[0m\u001b[0;34m)\u001b[0m\u001b[0;34m\u001b[0m\u001b[0;34m\u001b[0m\u001b[0m\n",
      "\u001b[0m\u001b[0;32m    422 \u001b[0;31m        \u001b[0mnum_short_memories\u001b[0m \u001b[0;34m=\u001b[0m \u001b[0mtorch\u001b[0m\u001b[0;34m.\u001b[0m\u001b[0mtensor\u001b[0m\u001b[0;34m(\u001b[0m\u001b[0mnum_short_memories\u001b[0m\u001b[0;34m)\u001b[0m\u001b[0;34m\u001b[0m\u001b[0;34m\u001b[0m\u001b[0m\n",
      "\u001b[0m\n",
      "tensor([[ 10,  11,  12,  10,  12,  11,  10,  11,  10,  12,  10,  12,  11,  10,\n",
      "          12,  11,  10,  12,  12,  11,  12,  12,  23,  23,  23,  23,  23,  23,\n",
      "          24,  24,  25,  25,  25,  24,  25,  24,  25,  25,  24,  24,  25,  36,\n",
      "          37,  36,  37,  36,  37,  36,  36,  38,  37,  38,  37,  38,  38,  37,\n",
      "          37,  38,  38,  37,  38,  37,  37,  49,  50,  49,  49,  51,  49,  50,\n",
      "          49,  51,  50,  49,  50,  49,  51,  50,  62,  62,  62,  62,  62,  63,\n",
      "          63,  63,  64,  64,  64,  63,  63,  64,  63,  64,  64,  63,  75,  75,\n",
      "          75,  75,  75,  76,  76,  77,  77,  77,  76,  76,  77,  76,  77,  76,\n",
      "          77,  88,  88,  88,  88,  88,  89,  89,  89,  89, 100, 100, 100, 100,\n",
      "         100, 101, 101, 102, 101,  10,  11,  12,  10,  12,  11,  10,  11,  10,\n",
      "          12,  10,  12,  11,  10,  12,  11,  10,  12,  12,  11,  12,  12,  23,\n",
      "          23,  23,  23,  23,  23,  24,  24,  25,  25,  25,  24,  25,  24,  25,\n",
      "          25,  24,  24,  25,  36,  37,  36,  37,  36,  37,  36,  36,  38,  37,\n",
      "          38,  37,  38,  38,  37,  37,  38,  38,  37,  38,  37,  37,  49,  50,\n",
      "          49,  49,  51,  49,  50,  49,  51,  50,  49,  50,  49,  51,  50,  62,\n",
      "          62,  62,  62,  62,  63,  63,  63,  64,  64,  64,  63,  63,  64,  63,\n",
      "          64,  64,  63,  75,  75,  75,  75,  75,  76,  76,  77,  77,  77,  76,\n",
      "          76,  77,  76,  77,  76,  77,  88,  88,  88,  88,  88,  89,  89,  89,\n",
      "          89, 100, 100, 100, 100, 100, 101, 101, 102, 101],\n",
      "        [  8,   9,  10,   8,  10,  11,   8,  11,   8,   9,   8,  10,  12,   8,\n",
      "          10,  12,   8,  13,  10,  10,  10,  10,  30,  30,  30,  30,  30,  30,\n",
      "          31,  31,  32,  32,  33,  31,  34,  31,  34,  35,  31,  31,  36,  45,\n",
      "          46,  45,  46,  45,  46,  45,  45,  47,  46,  48,  49,  48,  50,  50,\n",
      "          46,  48,  51,  46,  50,  46,  50,  59,  59,  59,  59,  60,  59,  61,\n",
      "          59,  60,  61,  59,  61,  59,  60,  61,  75,  75,  75,  75,  75,  76,\n",
      "          76,  76,  77,  77,  78,  76,  76,  79,  76,  79,  80,  76,  88,  88,\n",
      "          88,  88,  88,  89,  89,  90,  90,  90,  90,  90,  90,  90,  90,  91,\n",
      "          90,  98,  98,  98,  98,  98,  98,  98,  98,  98, 107, 107, 107, 107,\n",
      "         107, 107, 107, 108, 107,   8,   9,  10,   8,  10,  11,   8,  11,   8,\n",
      "           9,   8,  10,  12,   8,  10,  12,   8,  13,  10,  10,  10,  10,  30,\n",
      "          30,  30,  30,  30,  30,  31,  31,  32,  32,  33,  31,  34,  31,  34,\n",
      "          35,  31,  31,  36,  45,  46,  45,  46,  45,  46,  45,  45,  47,  46,\n",
      "          48,  49,  48,  50,  50,  46,  48,  51,  46,  50,  46,  50,  59,  59,\n",
      "          59,  59,  60,  59,  61,  59,  60,  61,  59,  61,  59,  60,  61,  75,\n",
      "          75,  75,  75,  75,  76,  76,  76,  77,  77,  78,  76,  76,  79,  76,\n",
      "          79,  80,  76,  88,  88,  88,  88,  88,  89,  89,  90,  90,  90,  90,\n",
      "          90,  90,  90,  90,  91,  90,  98,  98,  98,  98,  98,  98,  98,  98,\n",
      "          98, 107, 107, 107, 107, 107, 107, 107, 108, 107],\n",
      "        [  0,   0,   0,   1,   1,   1,   2,   2,   3,   3,   4,   4,   4,   5,\n",
      "           5,   5,   6,   6,   7,   8,   9,  10,  22,  23,  24,  25,  26,  27,\n",
      "          28,  29,  29,  30,  31,  32,  33,  34,  35,  36,  37,  38,  39,  58,\n",
      "          58,  59,  59,  60,  60,  61,  62,  62,  63,  63,  64,  64,  65,  65,\n",
      "          66,  66,  67,  67,  68,  68,  69,  82,  82,  83,  84,  84,  85,  85,\n",
      "          86,  86,  86,  87,  87,  88,  88,  88,  96,  97,  98,  99, 100, 101,\n",
      "         102, 103, 103, 104, 105, 106, 107, 108, 109, 110, 111, 112, 130, 131,\n",
      "         132, 133, 134, 135, 136, 137, 138, 139, 140, 141, 142, 143, 144, 145,\n",
      "         146, 164, 165, 166, 167, 168, 169, 170, 171, 172, 182, 183, 184, 185,\n",
      "         186, 187, 188, 189, 190,   0,   0,   0,   1,   1,   1,   2,   2,   3,\n",
      "           3,   4,   4,   4,   5,   5,   5,   6,   6,   7,   8,   9,  10,  22,\n",
      "          23,  24,  25,  26,  27,  28,  29,  29,  30,  31,  32,  33,  34,  35,\n",
      "          36,  37,  38,  39,  58,  58,  59,  59,  60,  60,  61,  62,  62,  63,\n",
      "          63,  64,  64,  65,  65,  66,  66,  67,  67,  68,  68,  69,  82,  82,\n",
      "          83,  84,  84,  85,  85,  86,  86,  86,  87,  87,  88,  88,  88,  96,\n",
      "          97,  98,  99, 100, 101, 102, 103, 103, 104, 105, 106, 107, 108, 109,\n",
      "         110, 111, 112, 130, 131, 132, 133, 134, 135, 136, 137, 138, 139, 140,\n",
      "         141, 142, 143, 144, 145, 146, 164, 165, 166, 167, 168, 169, 170, 171,\n",
      "         172, 182, 183, 184, 185, 186, 187, 188, 189, 190]])\n",
      "torch.Size([3, 262])\n",
      "torch.Size([3, 262])\n",
      "tensor([[100, 100, 100, 100, 100, 101, 101, 102, 101],\n",
      "        [107, 107, 107, 107, 107, 107, 107, 108, 107],\n",
      "        [182, 183, 184, 185, 186, 187, 188, 189, 190]])\n",
      "tensor([[100, 100, 100, 100, 100, 101, 101, 102, 101],\n",
      "        [107, 107, 107, 107, 107, 107, 107, 108, 107],\n",
      "        [182, 183, 184, 185, 186, 187, 188, 189, 190]])\n"
     ]
    },
    {
     "name": "stderr",
     "output_type": "stream",
     "text": [
      "0it [00:45, ?it/s]\n"
     ]
    }
   ],
   "source": [
    "import matplotlib\n",
    "\n",
    "matplotlib.use(\"Agg\")\n",
    "\n",
    "import logging\n",
    "\n",
    "logger = logging.getLogger()\n",
    "logger.disabled = True\n",
    "\n",
    "import os\n",
    "import torch\n",
    "import numpy as np\n",
    "\n",
    "from agent import DQNAgent\n",
    "from tqdm.auto import tqdm\n",
    "import random\n",
    "import itertools\n",
    "\n",
    "# Number of combinations you want\n",
    "num_combinations = 100  # Change this to however many combinations you need\n",
    "\n",
    "# default\n",
    "room_size = \"xl-different-prob\"\n",
    "capacity_max = 12\n",
    "batch_size = 8\n",
    "terminates_at = 9\n",
    "num_iterations = (terminates_at + 1) * 100\n",
    "validation_starts_at = num_iterations // 2\n",
    "\n",
    "prob_type = (\n",
    "    \"non-equal-object-probs\" if \"different-prob\" in room_size else \"equal-object-probs\"\n",
    ")\n",
    "root_path = (\n",
    "    f\"./training-results/{prob_type}/dqn/room_size={room_size}/capacity={capacity_max}/\"\n",
    ")\n",
    "\n",
    "root_path = \"training-results/TRASH\"\n",
    "\n",
    "# random\n",
    "test_seed_ = [i for i in range(num_combinations)]\n",
    "target_update_interval_ = [10]\n",
    "min_epsilon_ = [0.1]\n",
    "gamma_ = [0.8, 0.9, 0.99]\n",
    "semantic_decay_factor_ = [0.7, 0.9, 0.99]\n",
    "pretrain_semantic_ = [False]\n",
    "\n",
    "# Weights for agent_capacity_ elements\n",
    "replay_buffer_size_ = [\n",
    "    num_iterations,\n",
    "    num_iterations // 2,\n",
    "]\n",
    "warm_start_ = [\n",
    "    num_iterations // 2,\n",
    "    num_iterations // 4,\n",
    "    num_iterations // 10,\n",
    "]\n",
    "\n",
    "\n",
    "# Generate all combinations\n",
    "params_all = list(\n",
    "    itertools.product(\n",
    "        test_seed_,\n",
    "        target_update_interval_,\n",
    "        min_epsilon_,\n",
    "        gamma_,\n",
    "        semantic_decay_factor_,\n",
    "        pretrain_semantic_,\n",
    "        replay_buffer_size_,\n",
    "        warm_start_,\n",
    "    )\n",
    ")\n",
    "\n",
    "# Random combinations with weighted agent_capacity_\n",
    "random_combinations = random.sample(params_all, num_combinations)\n",
    "\n",
    "for i, params in tqdm(enumerate(random_combinations)):\n",
    "    (\n",
    "        test_seed,\n",
    "        target_update_interval,\n",
    "        min_epsilon,\n",
    "        gamma,\n",
    "        semantic_decay_factor,\n",
    "        pretrain_semantic,\n",
    "        replay_buffer_size,\n",
    "        warm_start,\n",
    "    ) = params\n",
    "\n",
    "    params_dict = {\n",
    "        \"env_str\": \"room_env:RoomEnv-v2\",\n",
    "        \"num_iterations\": num_iterations,\n",
    "        \"replay_buffer_size\": replay_buffer_size,\n",
    "        \"validation_starts_at\": validation_starts_at,\n",
    "        \"warm_start\": warm_start,\n",
    "        \"batch_size\": batch_size,\n",
    "        \"target_update_interval\": target_update_interval,\n",
    "        \"epsilon_decay_until\": num_iterations,\n",
    "        \"max_epsilon\": 1.0,\n",
    "        \"min_epsilon\": min_epsilon,\n",
    "        \"gamma\": gamma,\n",
    "        \"capacity\": {\"long\": capacity_max, \"short\": 15},\n",
    "        \"pretrain_semantic\": pretrain_semantic,\n",
    "        \"semantic_decay_factor\": semantic_decay_factor,\n",
    "        \"dqn_params\": {\n",
    "            \"gcn_layer_params\": {\n",
    "                \"type\": \"stare\",\n",
    "                \"embedding_dim\": 10,\n",
    "                \"num_layers\": 2,\n",
    "                \"gcn_drop\": 0.1,\n",
    "                \"triple_qual_weight\": 0.8,\n",
    "            },\n",
    "            \"relu_between_gcn_layers\": True,\n",
    "            \"dropout_between_gcn_layers\": True,\n",
    "            \"mlp_params\": {\"num_hidden_layers\": 2, \"dueling_dqn\": True},\n",
    "        },\n",
    "        \"num_samples_for_results\": {\"val\": 5, \"test\": 10},\n",
    "        \"validation_interval\": 5,\n",
    "        \"plotting_interval\": 50,\n",
    "        \"train_seed\": test_seed + 5,\n",
    "        \"test_seed\": test_seed,\n",
    "        \"device\": \"cpu\",\n",
    "        \"qa_function\": \"latest_strongest\",\n",
    "        \"env_config\": {\n",
    "            \"question_prob\": 1.0,\n",
    "            \"terminates_at\": terminates_at,\n",
    "            \"randomize_observations\": \"all\",\n",
    "            \"room_size\": room_size,\n",
    "            \"rewards\": {\"correct\": 1, \"wrong\": 0, \"partial\": 0},\n",
    "            \"make_everything_static\": False,\n",
    "            \"num_total_questions\": 1000,\n",
    "            \"question_interval\": 1,\n",
    "            \"include_walls_in_observations\": True,\n",
    "        },\n",
    "        \"ddqn\": True,\n",
    "        \"default_root_dir\": root_path,\n",
    "    }\n",
    "\n",
    "    agent = DQNAgent(**params_dict)\n",
    "    agent.train()"
   ]
  },
  {
   "cell_type": "code",
   "execution_count": 2,
   "metadata": {},
   "outputs": [
    {
     "name": "stdout",
     "output_type": "stream",
     "text": [
      "Entity Embeddings Shape:\ttorch.Size([91, 10])\n",
      "Relation Embeddings Shape:\ttorch.Size([102, 10])\n",
      "Edge Index Shape:\t\ttorch.Size([2, 178])\n",
      "Edge Type Shape:\t\ttorch.Size([178])\n",
      "Quals Shape:\t\t\ttorch.Size([3, 236])\n",
      "Short Memory Index Shape:\ttorch.Size([44])\n",
      "Agent Entity Index Shape:\ttorch.Size([8])\n",
      "Num Short Memories Shape:\ttorch.Size([8])\n"
     ]
    }
   ],
   "source": [
    "# torch.save(entity_embeddings, \"entity_embeddings.pt\")\n",
    "# torch.save(relation_embeddings, \"relation_embeddings.pt\")\n",
    "# torch.save(edge_index, \"edge_index.pt\")\n",
    "# torch.save(edge_type, \"edge_type.pt\")\n",
    "# torch.save(quals, \"quals.pt\")\n",
    "# torch.save(short_memory_idx, \"short_memory_idx.pt\")\n",
    "# torch.save(agent_entity_index, \"agent_entity_index.pt\")\n",
    "# torch.save(num_short_memories, \"num_short_memories.pt\")\n",
    "\n",
    "# load what's saved above:\n",
    "\n",
    "entity_embeddings = torch.load(\"entity_embeddings.pt\")\n",
    "relation_embeddings = torch.load(\"relation_embeddings.pt\")\n",
    "edge_index = torch.load(\"edge_index.pt\")\n",
    "edge_type = torch.load(\"edge_type.pt\")\n",
    "quals = torch.load(\"quals.pt\")\n",
    "short_memory_idx = torch.load(\"short_memory_idx.pt\")\n",
    "agent_entity_index = torch.load(\"agent_entity_index.pt\")\n",
    "num_short_memories = torch.load(\"num_short_memories.pt\")\n",
    "\n",
    "\n",
    "print(f\"Entity Embeddings Shape:\\t{entity_embeddings.shape}\")\n",
    "print(f\"Relation Embeddings Shape:\\t{relation_embeddings.shape}\")\n",
    "print(f\"Edge Index Shape:\\t\\t{edge_index.shape}\")\n",
    "print(f\"Edge Type Shape:\\t\\t{edge_type.shape}\")\n",
    "print(f\"Quals Shape:\\t\\t\\t{quals.shape}\")\n",
    "print(f\"Short Memory Index Shape:\\t{short_memory_idx.shape}\")\n",
    "print(f\"Agent Entity Index Shape:\\t{agent_entity_index.shape}\")\n",
    "print(f\"Num Short Memories Shape:\\t{num_short_memories.shape}\")\n",
    "\n"
   ]
  },
  {
   "cell_type": "code",
   "execution_count": 3,
   "metadata": {},
   "outputs": [
    {
     "data": {
      "text/plain": [
       "tensor([ 10,  11,  10,  11,  10,  12,  11,  10,  11,  10,  12,  12,  11,  12,\n",
       "         11,  12,  11,  12,  11,  10,  11,  10,  11,  10,  12,  11,  10,  11,\n",
       "         10,  12,  12,  11,  12,  11,  12,  11,  12,  11,  23,  23,  23,  23,\n",
       "         23,  24,  24,  24,  25,  24,  24,  25,  24,  24,  25,  23,  23,  23,\n",
       "         23,  23,  24,  24,  24,  25,  24,  24,  25,  24,  24,  25,  36,  36,\n",
       "         36,  36,  36,  36,  36,  36,  36,  36,  36,  36,  36,  36,  47,  47,\n",
       "         47,  47,  47,  48,  48,  49,  49,  47,  47,  47,  47,  47,  48,  48,\n",
       "         49,  49,  60,  61,  60,  61,  60,  62,  60,  62,  60,  62,  61,  61,\n",
       "         62,  61,  62,  62,  61,  62,  62,  61,  60,  61,  60,  61,  60,  62,\n",
       "         60,  62,  60,  62,  61,  61,  62,  61,  62,  62,  61,  62,  62,  61,\n",
       "         73,  73,  73,  74,  73,  75,  73,  73,  75,  73,  74,  73,  73,  73,\n",
       "         74,  73,  75,  73,  73,  75,  73,  74,  86,  86,  86,  86,  86,  87,\n",
       "         88,  87,  87,  87,  88,  87,  87,  88,  87,  86,  86,  86,  86,  86,\n",
       "         87,  88,  87,  87,  87,  88,  87,  87,  88,  87,  99, 100,  99, 100,\n",
       "        101,  99, 101, 100,  99, 101,  99, 100, 101, 101, 100, 101, 100, 100,\n",
       "        101, 100, 100, 101,  99, 100,  99, 100, 101,  99, 101, 100,  99, 101,\n",
       "         99, 100, 101, 101, 100, 101, 100, 100, 101, 100, 100, 101])"
      ]
     },
     "execution_count": 3,
     "metadata": {},
     "output_type": "execute_result"
    }
   ],
   "source": [
    "quals[0, :]"
   ]
  },
  {
   "cell_type": "code",
   "execution_count": 4,
   "metadata": {},
   "outputs": [
    {
     "data": {
      "text/plain": [
       "tensor([ 8,  9,  8,  9,  8, 10,  9,  8,  9,  8, 10, 10, 11, 12, 10, 10, 12, 10,\n",
       "        12,  8,  9,  8,  9,  8, 10,  9,  8,  9,  8, 10, 10, 11, 12, 10, 10, 12,\n",
       "        10, 12, 22, 22, 22, 22, 22, 23, 23, 23, 24, 23, 23, 23, 23, 23, 23, 22,\n",
       "        22, 22, 22, 22, 23, 23, 23, 24, 23, 23, 23, 23, 23, 23, 32, 32, 32, 32,\n",
       "        32, 32, 32, 32, 32, 32, 32, 32, 32, 32, 40, 40, 40, 40, 40, 40, 40, 41,\n",
       "        41, 40, 40, 40, 40, 40, 40, 40, 41, 41, 50, 51, 50, 52, 50, 52, 50, 52,\n",
       "        50, 51, 51, 51, 53, 51, 54, 54, 52, 54, 55, 51, 50, 51, 50, 52, 50, 52,\n",
       "        50, 52, 50, 51, 51, 51, 53, 51, 54, 54, 52, 54, 55, 51, 63, 63, 63, 63,\n",
       "        63, 64, 63, 63, 64, 63, 63, 63, 63, 63, 63, 63, 64, 63, 63, 64, 63, 63,\n",
       "        71, 71, 71, 71, 71, 72, 73, 72, 73, 73, 73, 74, 74, 73, 74, 71, 71, 71,\n",
       "        71, 71, 72, 73, 72, 73, 73, 73, 74, 74, 73, 74, 83, 84, 83, 84, 85, 83,\n",
       "        85, 84, 83, 86, 83, 87, 85, 85, 88, 85, 89, 89, 87, 89, 90, 85, 83, 84,\n",
       "        83, 84, 85, 83, 85, 84, 83, 86, 83, 87, 85, 85, 88, 85, 89, 89, 87, 89,\n",
       "        90, 85])"
      ]
     },
     "execution_count": 4,
     "metadata": {},
     "output_type": "execute_result"
    }
   ],
   "source": [
    "quals[1, :]"
   ]
  },
  {
   "cell_type": "code",
   "execution_count": 5,
   "metadata": {},
   "outputs": [
    {
     "data": {
      "text/plain": [
       "tensor([  0,   0,   1,   1,   2,   2,   2,   3,   3,   4,   4,   5,   6,   7,\n",
       "          8,   8,   9,  10,  11,   0,   0,   1,   1,   2,   2,   2,   3,   3,\n",
       "          4,   4,   5,   6,   7,   8,   8,   9,  10,  11,  24,  25,  26,  27,\n",
       "         28,  29,  30,  31,  32,  33,  34,  35,  36,  37,  38,  24,  25,  26,\n",
       "         27,  28,  29,  30,  31,  32,  33,  34,  35,  36,  37,  38,  54,  55,\n",
       "         56,  57,  58,  59,  60,  54,  55,  56,  57,  58,  59,  60,  68,  69,\n",
       "         70,  71,  72,  73,  74,  75,  76,  68,  69,  70,  71,  72,  73,  74,\n",
       "         75,  76,  86,  86,  87,  87,  88,  88,  89,  89,  90,  90,  90,  91,\n",
       "         92,  93,  93,  94,  95,  96,  97,  97,  86,  86,  87,  87,  88,  88,\n",
       "         89,  89,  90,  90,  90,  91,  92,  93,  93,  94,  95,  96,  97,  97,\n",
       "        110, 111, 112, 112, 113, 113, 114, 115, 115, 116, 116, 110, 111, 112,\n",
       "        112, 113, 113, 114, 115, 115, 116, 116, 124, 125, 126, 127, 128, 129,\n",
       "        130, 131, 132, 133, 134, 135, 136, 137, 138, 124, 125, 126, 127, 128,\n",
       "        129, 130, 131, 132, 133, 134, 135, 136, 137, 138, 154, 154, 155, 155,\n",
       "        155, 156, 156, 156, 157, 157, 158, 158, 158, 159, 160, 161, 161, 162,\n",
       "        163, 164, 165, 165, 154, 154, 155, 155, 155, 156, 156, 156, 157, 157,\n",
       "        158, 158, 158, 159, 160, 161, 161, 162, 163, 164, 165, 165])"
      ]
     },
     "execution_count": 5,
     "metadata": {},
     "output_type": "execute_result"
    }
   ],
   "source": [
    "quals[2, :]"
   ]
  },
  {
   "cell_type": "code",
   "execution_count": 8,
   "metadata": {},
   "outputs": [
    {
     "data": {
      "text/plain": [
       "tensor([  0,   1,   0,   2,   3,   4,   0,   5,   6,   5,   7,   8,   9,   5,\n",
       "         13,  14,  15,  16,  17,  13,  17,  15,  15,  18,  19,  20,  21,  22,\n",
       "         18,  22,  20,  20,  26,  27,  28,  29,  30,  29,  28,  30,  30,  31,\n",
       "         32,  33,  34,  35,  34,  33,  35,  35,  39,  39,  40,  41,  42,  39,\n",
       "         43,  44,  44,  45,  46,  47,  44,  48,  52,  53,  54,  55,  55,  55,\n",
       "         56,  57,  58,  59,  60,  60,  60,  61,  65,  66,  67,  68,  69,  66,\n",
       "         69,  66,  67,  70,  71,  72,  73,  74,  71,  74,  71,  72,  78,  79,\n",
       "         80,  81,  82,  78,  82,  81,  79,  82,  80,  82,  83,  84,  85,  86,\n",
       "         87,  83,  87,  86,  84,  87,  85,  87,  91,  92,  93,  94,  95,  92,\n",
       "         92,  91,  92,  95,  93,  91,  96,  97,  98,  99, 100,  97,  97,  96,\n",
       "         97, 100,  98,  96])"
      ]
     },
     "execution_count": 8,
     "metadata": {},
     "output_type": "execute_result"
    }
   ],
   "source": [
    "edge_type"
   ]
  },
  {
   "cell_type": "code",
   "execution_count": 2,
   "metadata": {},
   "outputs": [],
   "source": [
    "torch.save(torch.tensor(0), \"foo.pt\")"
   ]
  },
  {
   "cell_type": "code",
   "execution_count": 3,
   "metadata": {},
   "outputs": [
    {
     "data": {
      "text/plain": [
       "(68, 13)"
      ]
     },
     "execution_count": 3,
     "metadata": {},
     "output_type": "execute_result"
    }
   ],
   "source": [
    "len(agent.dqn.entities), len(agent.dqn.relations)"
   ]
  },
  {
   "cell_type": "code",
   "execution_count": 4,
   "metadata": {},
   "outputs": [
    {
     "data": {
      "text/plain": [
       "['north',\n",
       " 'east',\n",
       " 'south',\n",
       " 'west',\n",
       " 'atlocation',\n",
       " 'north_inv',\n",
       " 'east_inv',\n",
       " 'south_inv',\n",
       " 'west_inv',\n",
       " 'atlocation_inv',\n",
       " 'current_time',\n",
       " 'timestamp',\n",
       " 'strength']"
      ]
     },
     "execution_count": 4,
     "metadata": {},
     "output_type": "execute_result"
    }
   ],
   "source": [
    "agent.dqn.relations"
   ]
  },
  {
   "cell_type": "code",
   "execution_count": 2,
   "metadata": {},
   "outputs": [
    {
     "name": "stdout",
     "output_type": "stream",
     "text": [
      "(1, 7, 4)\n",
      "(8,)\n"
     ]
    }
   ],
   "source": [
    "data_single = np.array([[['dep_001', 'atlocation', 'room_000', {'current_time': 0}],\n",
    "        ['room_000', 'south', 'room_004', {'current_time': 0}],\n",
    "        ['room_000', 'north', 'wall', {'current_time': 0}],\n",
    "        ['agent', 'atlocation', 'room_000', {'current_time': 0}],\n",
    "        ['dep_007', 'atlocation', 'room_000', {'current_time': 0}],\n",
    "        ['room_000', 'west', 'wall', {'current_time': 0}],\n",
    "        ['room_000', 'east', 'room_001', {'current_time': 0}]]],\n",
    "      dtype=object)\n",
    "\n",
    "print(data_single.shape)\n",
    "\n",
    "data = np.array([list([['dep_007', 'atlocation', 'room_000', {'current_time': 2, 'strength': 1}], ['agent', 'atlocation', 'room_000', {'current_time': 2, 'strength': 1}], ['room_000', 'west', 'wall', {'current_time': 2, 'strength': 1}], ['room_000', 'north', 'wall', {'current_time': 2, 'strength': 1.8}], ['dep_001', 'atlocation', 'room_000', {'current_time': 2, 'timestamp': [0, 1]}], ['room_000', 'south', 'room_004', {'current_time': 2, 'timestamp': [1]}], ['room_000', 'east', 'room_001', {'current_time': 2, 'timestamp': [0], 'strength': 1}]]),\n",
    "       list([['room_005', 'east', 'room_006', {'current_time': 5}], ['agent', 'atlocation', 'room_005', {'current_time': 5}], ['room_005', 'south', 'wall', {'current_time': 5}], ['room_005', 'north', 'room_001', {'current_time': 5}], ['room_005', 'west', 'room_004', {'current_time': 5}], ['room_000', 'east', 'room_001', {'timestamp': [0], 'strength': 1}], ['agent', 'atlocation', 'room_000', {'timestamp': [0, 2, 3], 'strength': 1}], ['dep_001', 'atlocation', 'room_000', {'timestamp': [0, 1], 'strength': 1.62}], ['dep_007', 'atlocation', 'room_000', {'strength': 1, 'timestamp': [1]}], ['room_000', 'west', 'wall', {'timestamp': [1, 2], 'strength': 1}], ['room_000', 'north', 'wall', {'strength': 1}], ['room_000', 'south', 'room_004', {'timestamp': [3]}], ['room_004', 'south', 'wall', {'timestamp': [4]}], ['room_004', 'north', 'room_000', {'timestamp': [4]}]]),\n",
    "       list([['agent', 'atlocation', 'room_001', {'current_time': 9, 'strength': 1.3122000000000003, 'timestamp': [6, 7]}], ['room_001', 'west', 'room_000', {'current_time': 9, 'timestamp': [1, 6]}], ['room_001', 'south', 'room_005', {'current_time': 9, 'strength': 2.2680000000000002, 'timestamp': [5]}], ['room_001', 'north', 'wall', {'current_time': 9, 'timestamp': [1, 2], 'strength': 2.52}], ['room_001', 'east', 'wall', {'current_time': 9, 'strength': 2.1222000000000003, 'timestamp': [2, 6]}], ['dep_001', 'atlocation', 'room_000', {'strength': 1.0628820000000003, 'timestamp': [4]}], ['room_000', 'south', 'room_004', {'strength': 1, 'timestamp': [3, 4]}], ['room_000', 'east', 'room_001', {'timestamp': [0, 3]}], ['room_000', 'west', 'wall', {'timestamp': [0]}], ['agent', 'atlocation', 'room_000', {'timestamp': [0], 'strength': 1}], ['room_000', 'north', 'wall', {'timestamp': [0], 'strength': 1}], ['dep_007', 'atlocation', 'room_000', {'strength': 1}]]),\n",
    "       list([['dep_001', 'atlocation', 'room_000', {'current_time': 4, 'strength': 1.8, 'timestamp': [2]}], ['room_000', 'south', 'room_004', {'current_time': 4, 'timestamp': [3]}], ['room_000', 'east', 'room_001', {'current_time': 4, 'timestamp': [0]}], ['dep_007', 'atlocation', 'room_000', {'current_time': 4, 'strength': 1, 'timestamp': [3]}], ['room_000', 'west', 'wall', {'current_time': 4, 'strength': 1, 'timestamp': [2]}], ['room_000', 'north', 'wall', {'current_time': 4, 'strength': 1}], ['agent', 'atlocation', 'room_000', {'current_time': 4, 'timestamp': [0, 2], 'strength': 1}], ['room_004', 'south', 'wall', {'timestamp': [1]}], ['room_004', 'east', 'room_005', {'strength': 1}]]),\n",
    "       list([['agent', 'atlocation', 'room_004', {'current_time': 3, 'timestamp': [1, 2]}], ['room_004', 'north', 'room_000', {'current_time': 3, 'strength': 1}], ['room_004', 'south', 'wall', {'current_time': 3, 'strength': 1, 'timestamp': [2]}], ['room_004', 'west', 'wall', {'current_time': 3, 'timestamp': [1, 2]}], ['room_004', 'east', 'room_005', {'current_time': 3, 'timestamp': [1]}], ['room_000', 'west', 'wall', {'strength': 1}], ['room_000', 'south', 'room_004', {'timestamp': [0]}], ['room_000', 'north', 'wall', {'timestamp': [0]}], ['room_000', 'east', 'room_001', {'timestamp': [0]}], ['agent', 'atlocation', 'room_000', {'strength': 1}]]),\n",
    "       list([['room_004', 'north', 'room_000', {'current_time': 9, 'strength': 1}], ['agent', 'atlocation', 'room_004', {'current_time': 9, 'timestamp': [7], 'strength': 1}], ['room_004', 'south', 'wall', {'current_time': 9, 'strength': 1, 'timestamp': [7]}], ['room_004', 'east', 'room_005', {'current_time': 9}], ['room_004', 'west', 'wall', {'current_time': 9}], ['room_000', 'south', 'room_004', {'strength': 1}], ['room_005', 'north', 'room_001', {'timestamp': [2, 5], 'strength': 1}], ['room_006', 'east', 'room_007', {'timestamp': [3]}], ['room_006', 'west', 'room_005', {'strength': 1.1809800000000004}], ['sta_004', 'atlocation', 'room_006', {'strength': 1.1809800000000004}], ['agent', 'atlocation', 'room_006', {'timestamp': [4]}], ['room_005', 'east', 'room_006', {'strength': 1.4580000000000002}], ['room_005', 'south', 'wall', {'timestamp': [6]}], ['room_005', 'west', 'room_004', {'timestamp': [6]}]]),\n",
    "       list([['agent', 'atlocation', 'room_000', {'current_time': 4, 'strength': 1}], ['room_000', 'east', 'room_001', {'current_time': 4, 'timestamp': [0, 3]}], ['room_000', 'north', 'wall', {'current_time': 4, 'strength': 1.8}], ['room_000', 'west', 'wall', {'current_time': 4, 'strength': 1, 'timestamp': [1, 3]}], ['dep_001', 'atlocation', 'room_000', {'current_time': 4, 'timestamp': [0, 1, 3]}], ['dep_007', 'atlocation', 'room_000', {'current_time': 4, 'timestamp': [0], 'strength': 1}], ['room_000', 'south', 'room_004', {'current_time': 4, 'timestamp': [0, 1], 'strength': 1}], ['room_004', 'west', 'wall', {'strength': 1}], ['room_004', 'south', 'wall', {'timestamp': [2]}], ['room_004', 'north', 'room_000', {'timestamp': [2]}], ['room_004', 'east', 'room_005', {'strength': 1}]]),\n",
    "       list([['room_001', 'south', 'room_005', {'current_time': 5}], ['agent', 'atlocation', 'room_001', {'current_time': 5}], ['room_001', 'north', 'wall', {'current_time': 5}], ['room_001', 'east', 'wall', {'current_time': 5}], ['room_001', 'west', 'room_000', {'current_time': 5}], ['agent', 'atlocation', 'room_000', {'strength': 1, 'timestamp': [3]}], ['dep_001', 'atlocation', 'room_000', {'strength': 1, 'timestamp': [1, 2, 3]}], ['room_000', 'south', 'room_004', {'strength': 1.4580000000000002, 'timestamp': [3, 4]}], ['room_000', 'north', 'wall', {'strength': 3.168}], ['room_000', 'west', 'wall', {'strength': 1.62, 'timestamp': [2, 4]}], ['dep_007', 'atlocation', 'room_000', {'strength': 1.8, 'timestamp': [2, 3]}], ['room_000', 'east', 'room_001', {'timestamp': [3], 'strength': 1}]])],\n",
    "      dtype=object)\n",
    "\n",
    "print(data.shape)"
   ]
  },
  {
   "cell_type": "code",
   "execution_count": 5,
   "metadata": {},
   "outputs": [],
   "source": [
    "(\n",
    "    entity_embeddings,\n",
    "    relation_embeddings,\n",
    "    edge_index,\n",
    "    edge_type,\n",
    "    quals,\n",
    "    short_memory_idx,\n",
    "    agent_node_idx,\n",
    "    num_short_memories\n",
    ") = agent.dqn.process_sample(data[0])"
   ]
  },
  {
   "cell_type": "code",
   "execution_count": 7,
   "metadata": {},
   "outputs": [
    {
     "name": "stdout",
     "output_type": "stream",
     "text": [
      "Entity Embeddings Shape:\ttorch.Size([10, 10])\n",
      "Relation Embeddings Shape:\ttorch.Size([13, 10])\n",
      "Edge Index Shape:\t\ttorch.Size([2, 14])\n",
      "Edge Type Shape:\t\ttorch.Size([14])\n",
      "Quals Shape:\t\t\ttorch.Size([3, 30])\n",
      "Short Memory Index Shape:\ttorch.Size([7])\n",
      "Agent Node Index Shape:\t\ttorch.Size([])\n",
      "Number of Short Memories:\t7\n"
     ]
    }
   ],
   "source": [
    "print(f\"Entity Embeddings Shape:\\t{entity_embeddings.shape}\")\n",
    "print(f\"Relation Embeddings Shape:\\t{relation_embeddings.shape}\")\n",
    "print(f\"Edge Index Shape:\\t\\t{edge_index.shape}\")\n",
    "print(f\"Edge Type Shape:\\t\\t{edge_type.shape}\")\n",
    "print(f\"Quals Shape:\\t\\t\\t{quals.shape}\")\n",
    "print(f\"Short Memory Index Shape:\\t{short_memory_idx.shape}\")\n",
    "print(f\"Agent Node Index Shape:\\t\\t{agent_node_idx.shape}\")\n",
    "print(f\"Number of Short Memories:\\t{num_short_memories}\")\n"
   ]
  },
  {
   "cell_type": "code",
   "execution_count": 9,
   "metadata": {},
   "outputs": [],
   "source": [
    "(\n",
    "    entity_embeddings,\n",
    "    relation_embeddings,\n",
    "    edge_index,\n",
    "    edge_type,\n",
    "    quals,\n",
    "    short_memory_idx,\n",
    "    agent_node_idx,\n",
    "    num_short_memories\n",
    ") = agent.dqn.process_batch(data)"
   ]
  },
  {
   "cell_type": "code",
   "execution_count": 10,
   "metadata": {},
   "outputs": [
    {
     "name": "stdout",
     "output_type": "stream",
     "text": [
      "Entity Embeddings Shape:\ttorch.Size([107, 10])\n",
      "Relation Embeddings Shape:\ttorch.Size([104, 10])\n",
      "Edge Index Shape:\t\ttorch.Size([2, 178])\n",
      "Edge Type Shape:\t\ttorch.Size([178])\n",
      "Quals Shape:\t\t\ttorch.Size([3, 308])\n",
      "Short Memory Index Shape:\ttorch.Size([46])\n",
      "Agent Node Index Shape:\t\ttorch.Size([8])\n",
      "Number of Short Memories:\ttensor([7, 5, 5, 7, 5, 5, 7, 5])\n"
     ]
    }
   ],
   "source": [
    "print(f\"Entity Embeddings Shape:\\t{entity_embeddings.shape}\")\n",
    "print(f\"Relation Embeddings Shape:\\t{relation_embeddings.shape}\")\n",
    "print(f\"Edge Index Shape:\\t\\t{edge_index.shape}\")\n",
    "print(f\"Edge Type Shape:\\t\\t{edge_type.shape}\")\n",
    "print(f\"Quals Shape:\\t\\t\\t{quals.shape}\")\n",
    "print(f\"Short Memory Index Shape:\\t{short_memory_idx.shape}\")\n",
    "print(f\"Agent Node Index Shape:\\t\\t{agent_node_idx.shape}\")\n",
    "print(f\"Number of Short Memories:\\t{num_short_memories}\")\n"
   ]
  },
  {
   "cell_type": "code",
   "execution_count": 3,
   "metadata": {},
   "outputs": [],
   "source": [
    "import torch\n",
    "\n",
    "# Example tensors\n",
    "q_mm = torch.tensor([[1, 2, 3], [4, 5, 6], [7, 8, 9], [10, 11, 12], [13, 14, 15]])\n",
    "num_short_memories = torch.tensor([5])\n",
    "\n",
    "split_triples = [q_mm[start:start + num] for start, num in zip(num_short_memories.cumsum(0).roll(1), num_short_memories)]\n",
    "split_triples[0] = q_mm[:num_short_memories[0]]\n",
    "\n",
    "# for t in split_triples:\n",
    "#     print(t)\n"
   ]
  },
  {
   "cell_type": "code",
   "execution_count": 4,
   "metadata": {},
   "outputs": [
    {
     "data": {
      "text/plain": [
       "[tensor([[ 1,  2,  3],\n",
       "         [ 4,  5,  6],\n",
       "         [ 7,  8,  9],\n",
       "         [10, 11, 12],\n",
       "         [13, 14, 15]])]"
      ]
     },
     "execution_count": 4,
     "metadata": {},
     "output_type": "execute_result"
    }
   ],
   "source": [
    "split_triples"
   ]
  },
  {
   "cell_type": "code",
   "execution_count": 18,
   "metadata": {},
   "outputs": [
    {
     "data": {
      "text/plain": [
       "torch.Size([3, 3])"
      ]
     },
     "execution_count": 18,
     "metadata": {},
     "output_type": "execute_result"
    }
   ],
   "source": [
    "t.shape"
   ]
  },
  {
   "cell_type": "code",
   "execution_count": 11,
   "metadata": {},
   "outputs": [
    {
     "data": {
      "text/plain": [
       "tensor(46)"
      ]
     },
     "execution_count": 11,
     "metadata": {},
     "output_type": "execute_result"
    }
   ],
   "source": [
    "num_short_memories.sum()"
   ]
  },
  {
   "cell_type": "code",
   "execution_count": 43,
   "metadata": {},
   "outputs": [
    {
     "name": "stdout",
     "output_type": "stream",
     "text": [
      "torch.Size([1, 3])\n",
      "torch.Size([1, 3])\n",
      "torch.Size([1, 3])\n"
     ]
    }
   ],
   "source": [
    "import torch\n",
    "\n",
    "# Example tensor of shape (N, M)\n",
    "tensor = torch.tensor([[1, 2, 3], [4, 5, 6], [7, 8, 9]])\n",
    "\n",
    "# Split the tensor into M row vectors\n",
    "row_vectors = list(tensor.unbind(dim=0))\n",
    "\n",
    "# Display the result\n",
    "for row in row_vectors:\n",
    "    print(row.unsqueeze(0).shape)\n"
   ]
  },
  {
   "cell_type": "code",
   "execution_count": 44,
   "metadata": {},
   "outputs": [
    {
     "data": {
      "text/plain": [
       "[tensor([1, 2, 3]), tensor([4, 5, 6]), tensor([7, 8, 9])]"
      ]
     },
     "execution_count": 44,
     "metadata": {},
     "output_type": "execute_result"
    }
   ],
   "source": [
    "row_vectors"
   ]
  },
  {
   "cell_type": "code",
   "execution_count": 40,
   "metadata": {},
   "outputs": [
    {
     "data": {
      "text/plain": [
       "torch.Size([3, 3])"
      ]
     },
     "execution_count": 40,
     "metadata": {},
     "output_type": "execute_result"
    }
   ],
   "source": [
    "tensor.shape"
   ]
  },
  {
   "cell_type": "code",
   "execution_count": 37,
   "metadata": {},
   "outputs": [
    {
     "name": "stdout",
     "output_type": "stream",
     "text": [
      "[tensor([1]), tensor([2, 2]), tensor([3, 3, 3])]\n"
     ]
    }
   ],
   "source": [
    "import torch\n",
    "\n",
    "mem = torch.tensor([1, 2, 2, 3, 3, 3])\n",
    "num_mems = torch.tensor([1, 2, 3])\n",
    "\n",
    "split_mem = [\n",
    "    mem[start : start + num.item()]\n",
    "    for start, num in zip(num_mems.cumsum(0).roll(1), num_mems)\n",
    "]\n",
    "split_mem[0] = mem[: num_mems[0]]\n",
    "\n",
    "print(split_mem)"
   ]
  },
  {
   "cell_type": "code",
   "execution_count": 26,
   "metadata": {},
   "outputs": [
    {
     "data": {
      "text/plain": [
       "torch.Size([3])"
      ]
     },
     "execution_count": 26,
     "metadata": {},
     "output_type": "execute_result"
    }
   ],
   "source": [
    "torch.tensor([torch.tensor(0), torch.tensor(1), torch.tensor(2)]).shape"
   ]
  },
  {
   "cell_type": "code",
   "execution_count": 15,
   "metadata": {},
   "outputs": [
    {
     "data": {
      "text/plain": [
       "tensor([ 2, 12, 25, 48, 55, 67, 81, 96])"
      ]
     },
     "execution_count": 15,
     "metadata": {},
     "output_type": "execute_result"
    }
   ],
   "source": [
    "agent_node_idx"
   ]
  },
  {
   "cell_type": "code",
   "execution_count": 22,
   "metadata": {},
   "outputs": [
    {
     "data": {
      "text/plain": [
       "torch.Size([2])"
      ]
     },
     "execution_count": 22,
     "metadata": {},
     "output_type": "execute_result"
    }
   ],
   "source": [
    "torch.tensor([[1,2]])[0].shape"
   ]
  },
  {
   "cell_type": "code",
   "execution_count": 23,
   "metadata": {},
   "outputs": [
    {
     "data": {
      "text/plain": [
       "torch.Size([1, 2])"
      ]
     },
     "execution_count": 23,
     "metadata": {},
     "output_type": "execute_result"
    }
   ],
   "source": [
    "torch.tensor([[1,2]])[0:1].shape"
   ]
  },
  {
   "cell_type": "code",
   "execution_count": 16,
   "metadata": {},
   "outputs": [
    {
     "ename": "AttributeError",
     "evalue": "'GNN' object has no attribute 'convert_sample_to_data'",
     "output_type": "error",
     "traceback": [
      "\u001b[0;31m---------------------------------------------------------------------------\u001b[0m",
      "\u001b[0;31mAttributeError\u001b[0m                            Traceback (most recent call last)",
      "Cell \u001b[0;32mIn[16], line 1\u001b[0m\n\u001b[0;32m----> 1\u001b[0m batch \u001b[38;5;241m=\u001b[39m [agent\u001b[38;5;241m.\u001b[39mdqn\u001b[38;5;241m.\u001b[39mconvert_sample_to_data(sample) \u001b[38;5;28;01mfor\u001b[39;00m sample \u001b[38;5;129;01min\u001b[39;00m data]\n\u001b[1;32m      2\u001b[0m batch\n",
      "Cell \u001b[0;32mIn[16], line 1\u001b[0m, in \u001b[0;36m<listcomp>\u001b[0;34m(.0)\u001b[0m\n\u001b[0;32m----> 1\u001b[0m batch \u001b[38;5;241m=\u001b[39m [\u001b[43magent\u001b[49m\u001b[38;5;241;43m.\u001b[39;49m\u001b[43mdqn\u001b[49m\u001b[38;5;241;43m.\u001b[39;49m\u001b[43mconvert_sample_to_data\u001b[49m(sample) \u001b[38;5;28;01mfor\u001b[39;00m sample \u001b[38;5;129;01min\u001b[39;00m data]\n\u001b[1;32m      2\u001b[0m batch\n",
      "File \u001b[0;32m~/.virtualenvs/agent-room-env-v2-gnn/lib/python3.10/site-packages/torch/nn/modules/module.py:1695\u001b[0m, in \u001b[0;36mModule.__getattr__\u001b[0;34m(self, name)\u001b[0m\n\u001b[1;32m   1693\u001b[0m     \u001b[38;5;28;01mif\u001b[39;00m name \u001b[38;5;129;01min\u001b[39;00m modules:\n\u001b[1;32m   1694\u001b[0m         \u001b[38;5;28;01mreturn\u001b[39;00m modules[name]\n\u001b[0;32m-> 1695\u001b[0m \u001b[38;5;28;01mraise\u001b[39;00m \u001b[38;5;167;01mAttributeError\u001b[39;00m(\u001b[38;5;124mf\u001b[39m\u001b[38;5;124m\"\u001b[39m\u001b[38;5;124m'\u001b[39m\u001b[38;5;132;01m{\u001b[39;00m\u001b[38;5;28mtype\u001b[39m(\u001b[38;5;28mself\u001b[39m)\u001b[38;5;241m.\u001b[39m\u001b[38;5;18m__name__\u001b[39m\u001b[38;5;132;01m}\u001b[39;00m\u001b[38;5;124m'\u001b[39m\u001b[38;5;124m object has no attribute \u001b[39m\u001b[38;5;124m'\u001b[39m\u001b[38;5;132;01m{\u001b[39;00mname\u001b[38;5;132;01m}\u001b[39;00m\u001b[38;5;124m'\u001b[39m\u001b[38;5;124m\"\u001b[39m)\n",
      "\u001b[0;31mAttributeError\u001b[0m: 'GNN' object has no attribute 'convert_sample_to_data'"
     ]
    }
   ],
   "source": [
    "batch = [agent.dqn.convert_sample_to_data(sample) for sample in data]\n",
    "batch"
   ]
  },
  {
   "cell_type": "code",
   "execution_count": null,
   "metadata": {},
   "outputs": [],
   "source": [
    "[Data(x=[7, 8], edge_index=[2, 7],\n",
    " Data(x=[9, 8], edge_index=[2, 14],\n",
    " Data(x=[8, 8], edge_index=[2, 12],\n",
    " Data(x=[8, 8], edge_index=[2, 9],\n",
    " Data(x=[6, 8], edge_index=[2, 10],\n",
    " Data(x=[9, 8], edge_index=[2, 14],\n",
    " Data(x=[8, 8], edge_index=[2, 11],\n",
    " Data(x=[8, 8], edge_index=[2, 12],]"
   ]
  },
  {
   "cell_type": "code",
   "execution_count": 32,
   "metadata": {},
   "outputs": [
    {
     "data": {
      "text/plain": [
       "[7, 14, 12, 9, 10, 14, 11, 12]"
      ]
     },
     "execution_count": 32,
     "metadata": {},
     "output_type": "execute_result"
    }
   ],
   "source": [
    "[len(sample) for sample in data]"
   ]
  },
  {
   "cell_type": "code",
   "execution_count": 13,
   "metadata": {},
   "outputs": [
    {
     "data": {
      "text/plain": [
       "tensor([[-0.0407,  0.0931, -0.0577, -0.1373, -0.2149,  0.0200,  0.1025, -0.1131],\n",
       "        [ 0.0064, -0.0282, -0.0982,  0.1061,  0.0975,  0.1682,  0.0088,  0.0496],\n",
       "        [-0.0398,  0.2858, -0.0652, -0.1250,  0.2002,  0.2245, -0.1621,  0.0538],\n",
       "        [-0.2273,  0.3185,  0.0252, -0.1168,  0.1527, -0.4556, -0.0915, -0.0586],\n",
       "        [-0.0714,  0.1853,  0.1917,  0.3164,  0.0983, -0.1425,  0.3199,  0.1631],\n",
       "        [-0.1893,  0.1739, -0.1608, -0.1605,  0.0994, -0.1334,  0.0982,  0.0991],\n",
       "        [ 0.0174,  0.1311, -0.1083,  0.1488, -0.0361, -0.0792, -0.0231,  0.0907],\n",
       "        [ 0.3198, -0.1265,  0.1058,  0.0101, -0.1545,  0.2962,  0.1155,  0.0226]],\n",
       "       grad_fn=<StackBackward0>)"
      ]
     },
     "execution_count": 13,
     "metadata": {},
     "output_type": "execute_result"
    }
   ],
   "source": [
    "batch[-1].x"
   ]
  },
  {
   "cell_type": "code",
   "execution_count": 14,
   "metadata": {},
   "outputs": [
    {
     "data": {
      "text/plain": [
       "tensor([[0, 2, 0, 0, 0, 2, 5, 4, 4, 4, 7, 4],\n",
       "        [1, 0, 3, 3, 4, 4, 4, 6, 3, 3, 4, 0]])"
      ]
     },
     "execution_count": 14,
     "metadata": {},
     "output_type": "execute_result"
    }
   ],
   "source": [
    "batch[-1].edge_index"
   ]
  },
  {
   "cell_type": "code",
   "execution_count": 15,
   "metadata": {},
   "outputs": [
    {
     "data": {
      "text/plain": [
       "[{'head_idx': 0, 'relation_idx': 2, 'tail_idx': 1},\n",
       " {'head_idx': 2, 'relation_idx': 4, 'tail_idx': 0},\n",
       " {'head_idx': 0, 'relation_idx': 0, 'tail_idx': 3},\n",
       " {'head_idx': 0, 'relation_idx': 1, 'tail_idx': 3},\n",
       " {'head_idx': 0, 'relation_idx': 3, 'tail_idx': 4}]"
      ]
     },
     "execution_count": 15,
     "metadata": {},
     "output_type": "execute_result"
    }
   ],
   "source": [
    "batch[-1].short_triples"
   ]
  },
  {
   "cell_type": "code",
   "execution_count": 16,
   "metadata": {},
   "outputs": [
    {
     "data": {
      "text/plain": [
       "2"
      ]
     },
     "execution_count": 16,
     "metadata": {},
     "output_type": "execute_result"
    }
   ],
   "source": [
    "batch[-1].agent_node"
   ]
  },
  {
   "cell_type": "code",
   "execution_count": 17,
   "metadata": {},
   "outputs": [
    {
     "name": "stderr",
     "output_type": "stream",
     "text": [
      "/home/tk/.virtualenvs/agent-room-env-v2-gnn/lib/python3.10/site-packages/torch_geometric/deprecation.py:22: UserWarning: 'data.DataLoader' is deprecated, use 'loader.DataLoader' instead\n",
      "  warnings.warn(out)\n"
     ]
    },
    {
     "data": {
      "text/plain": [
       "DataBatch(x=[63, 8], edge_index=[2, 89], short_triples=[8], agent_node=[8], batch=[63], ptr=[9])"
      ]
     },
     "execution_count": 17,
     "metadata": {},
     "output_type": "execute_result"
    }
   ],
   "source": [
    "from agent.dqn.nn.gnn import DataLoader\n",
    "loader = DataLoader(batch, len(batch), shuffle=False)\n",
    "batch_ = next(iter(loader))\n",
    "batch_"
   ]
  },
  {
   "cell_type": "code",
   "execution_count": 19,
   "metadata": {},
   "outputs": [
    {
     "data": {
      "text/plain": [
       "True"
      ]
     },
     "execution_count": 19,
     "metadata": {},
     "output_type": "execute_result"
    }
   ],
   "source": [
    "import torch\n",
    "torch.equal(torch.cat([b.x for b in batch]), batch_.x)"
   ]
  },
  {
   "cell_type": "code",
   "execution_count": 26,
   "metadata": {},
   "outputs": [
    {
     "data": {
      "text/plain": [
       "tensor([[59, 59, 59, 62, 59],\n",
       "        [61, 58, 58, 59, 55]])"
      ]
     },
     "execution_count": 26,
     "metadata": {},
     "output_type": "execute_result"
    }
   ],
   "source": [
    "batch_.edge_index[:, -5:]"
   ]
  },
  {
   "cell_type": "code",
   "execution_count": 20,
   "metadata": {},
   "outputs": [
    {
     "data": {
      "text/plain": [
       "[torch.Size([7, 8]),\n",
       " torch.Size([9, 8]),\n",
       " torch.Size([8, 8]),\n",
       " torch.Size([8, 8]),\n",
       " torch.Size([6, 8]),\n",
       " torch.Size([9, 8]),\n",
       " torch.Size([8, 8]),\n",
       " torch.Size([8, 8])]"
      ]
     },
     "execution_count": 20,
     "metadata": {},
     "output_type": "execute_result"
    }
   ],
   "source": [
    "[b.x.shape for b in batch]"
   ]
  },
  {
   "cell_type": "code",
   "execution_count": 21,
   "metadata": {},
   "outputs": [],
   "source": [
    "foo = torch.zeros(2, 0)\n",
    "to_increment = 0\n",
    "for idx, b in enumerate(batch):\n",
    "    edge_index_incresed = b.edge_index + to_increment\n",
    "    foo = torch.cat([foo, edge_index_incresed], dim=1)\n",
    "    to_increment += b.x.shape[0]"
   ]
  },
  {
   "cell_type": "markdown",
   "metadata": {},
   "source": [
    "## Run fixed combinations"
   ]
  },
  {
   "cell_type": "code",
   "execution_count": 1,
   "metadata": {},
   "outputs": [
    {
     "name": "stderr",
     "output_type": "stream",
     "text": [
      "/home/tk/.virtualenvs/agent-room-env-v2-gnn/lib/python3.10/site-packages/tqdm/auto.py:21: TqdmWarning: IProgress not found. Please update jupyter and ipywidgets. See https://ipywidgets.readthedocs.io/en/stable/user_install.html\n",
      "  from .autonotebook import tqdm as notebook_tqdm\n"
     ]
    },
    {
     "name": "stdout",
     "output_type": "stream",
     "text": [
      "Running on cpu\n"
     ]
    },
    {
     "ename": "TypeError",
     "evalue": "GNN.__init__() got an unexpected keyword argument 'embedding_dim'",
     "output_type": "error",
     "traceback": [
      "\u001b[0;31m---------------------------------------------------------------------------\u001b[0m",
      "\u001b[0;31mTypeError\u001b[0m                                 Traceback (most recent call last)",
      "Cell \u001b[0;32mIn[1], line 83\u001b[0m\n\u001b[1;32m     39\u001b[0m \u001b[38;5;28;01mfor\u001b[39;00m test_seed \u001b[38;5;129;01min\u001b[39;00m [\u001b[38;5;241m0\u001b[39m, \u001b[38;5;241m1\u001b[39m, \u001b[38;5;241m2\u001b[39m, \u001b[38;5;241m3\u001b[39m, \u001b[38;5;241m4\u001b[39m]:\n\u001b[1;32m     40\u001b[0m     params_dict \u001b[38;5;241m=\u001b[39m {\n\u001b[1;32m     41\u001b[0m         \u001b[38;5;124m\"\u001b[39m\u001b[38;5;124menv_str\u001b[39m\u001b[38;5;124m\"\u001b[39m: \u001b[38;5;124m\"\u001b[39m\u001b[38;5;124mroom_env:RoomEnv-v2\u001b[39m\u001b[38;5;124m\"\u001b[39m,\n\u001b[1;32m     42\u001b[0m         \u001b[38;5;124m\"\u001b[39m\u001b[38;5;124mnum_iterations\u001b[39m\u001b[38;5;124m\"\u001b[39m: num_iterations,\n\u001b[0;32m   (...)\u001b[0m\n\u001b[1;32m     80\u001b[0m         \u001b[38;5;124m\"\u001b[39m\u001b[38;5;124mdefault_root_dir\u001b[39m\u001b[38;5;124m\"\u001b[39m: root_path,\n\u001b[1;32m     81\u001b[0m     }\n\u001b[0;32m---> 83\u001b[0m     agent \u001b[38;5;241m=\u001b[39m \u001b[43mDQNAgent\u001b[49m\u001b[43m(\u001b[49m\u001b[38;5;241;43m*\u001b[39;49m\u001b[38;5;241;43m*\u001b[39;49m\u001b[43mparams_dict\u001b[49m\u001b[43m)\u001b[49m\n\u001b[1;32m     84\u001b[0m     agent\u001b[38;5;241m.\u001b[39mtrain()\n",
      "File \u001b[0;32m~/repos/agent-room-env-v2-gnn/agent/dqn/dqn.py:205\u001b[0m, in \u001b[0;36mDQNAgent.__init__\u001b[0;34m(self, env_str, num_iterations, replay_buffer_size, validation_starts_at, warm_start, batch_size, target_update_interval, epsilon_decay_until, max_epsilon, min_epsilon, gamma, capacity, pretrain_semantic, semantic_decay_factor, dqn_params, num_samples_for_results, validation_interval, plotting_interval, train_seed, test_seed, device, qa_function, env_config, ddqn, default_root_dir)\u001b[0m\n\u001b[1;32m    199\u001b[0m \u001b[38;5;66;03m# Main triple relations have \"inv\", while qualifier relations don't have \"inv\".\u001b[39;00m\n\u001b[1;32m    200\u001b[0m \u001b[38;5;28mself\u001b[39m\u001b[38;5;241m.\u001b[39mdqn_params[\u001b[38;5;124m\"\u001b[39m\u001b[38;5;124mrelations\u001b[39m\u001b[38;5;124m\"\u001b[39m] \u001b[38;5;241m=\u001b[39m (\n\u001b[1;32m    201\u001b[0m     \u001b[38;5;28mself\u001b[39m\u001b[38;5;241m.\u001b[39menv\u001b[38;5;241m.\u001b[39munwrapped\u001b[38;5;241m.\u001b[39mrelations\n\u001b[1;32m    202\u001b[0m     \u001b[38;5;241m+\u001b[39m [rel \u001b[38;5;241m+\u001b[39m \u001b[38;5;124m\"\u001b[39m\u001b[38;5;124m_inv\u001b[39m\u001b[38;5;124m\"\u001b[39m \u001b[38;5;28;01mfor\u001b[39;00m rel \u001b[38;5;129;01min\u001b[39;00m \u001b[38;5;28mself\u001b[39m\u001b[38;5;241m.\u001b[39menv\u001b[38;5;241m.\u001b[39munwrapped\u001b[38;5;241m.\u001b[39mrelations]\n\u001b[1;32m    203\u001b[0m     \u001b[38;5;241m+\u001b[39m \u001b[38;5;28mself\u001b[39m\u001b[38;5;241m.\u001b[39mmemory_systems\u001b[38;5;241m.\u001b[39mqualifier_relations\n\u001b[1;32m    204\u001b[0m )\n\u001b[0;32m--> 205\u001b[0m \u001b[38;5;28mself\u001b[39m\u001b[38;5;241m.\u001b[39mdqn \u001b[38;5;241m=\u001b[39m \u001b[43mGNN\u001b[49m\u001b[43m(\u001b[49m\u001b[38;5;241;43m*\u001b[39;49m\u001b[38;5;241;43m*\u001b[39;49m\u001b[38;5;28;43mself\u001b[39;49m\u001b[38;5;241;43m.\u001b[39;49m\u001b[43mdqn_params\u001b[49m\u001b[43m)\u001b[49m\n\u001b[1;32m    206\u001b[0m \u001b[38;5;28mself\u001b[39m\u001b[38;5;241m.\u001b[39mdqn_target \u001b[38;5;241m=\u001b[39m GNN(\u001b[38;5;241m*\u001b[39m\u001b[38;5;241m*\u001b[39m\u001b[38;5;28mself\u001b[39m\u001b[38;5;241m.\u001b[39mdqn_params)\n\u001b[1;32m    207\u001b[0m \u001b[38;5;28mself\u001b[39m\u001b[38;5;241m.\u001b[39mdqn_target\u001b[38;5;241m.\u001b[39mload_state_dict(\u001b[38;5;28mself\u001b[39m\u001b[38;5;241m.\u001b[39mdqn\u001b[38;5;241m.\u001b[39mstate_dict())\n",
      "\u001b[0;31mTypeError\u001b[0m: GNN.__init__() got an unexpected keyword argument 'embedding_dim'"
     ]
    }
   ],
   "source": [
    "import matplotlib\n",
    "\n",
    "matplotlib.use(\"Agg\")\n",
    "\n",
    "import logging\n",
    "\n",
    "logger = logging.getLogger()\n",
    "logger.disabled = True\n",
    "\n",
    "import os\n",
    "from agent import DQNAgent\n",
    "from tqdm.auto import tqdm\n",
    "import random\n",
    "import itertools\n",
    "\n",
    "\n",
    "room_size = \"xl-different-prob\"\n",
    "terminates_at = 99\n",
    "num_iterations = (terminates_at + 1) * 100\n",
    "replay_buffer_size = num_iterations // 2\n",
    "validation_starts_at = num_iterations // 2\n",
    "warm_start = num_iterations // 4\n",
    "batch_size = 32\n",
    "target_update_interval = 10\n",
    "gamma = 0.9\n",
    "semantic_decay_factor = 0.9\n",
    "\n",
    "for capacity_max in [24, 12, 6, 48]:\n",
    "    prob_type = (\n",
    "        \"non-equal-object-probs\"\n",
    "        if \"different-prob\" in room_size\n",
    "        else \"equal-object-probs\"\n",
    "    )\n",
    "    root_path = (\n",
    "        f\"./training-results/{prob_type}/dqn/\"\n",
    "        f\"room_size={room_size}/capacity={capacity_max}/\"\n",
    "    )\n",
    "    for pretrain_semantic in [False, \"include_walls\", \"exclude_walls\"]:\n",
    "        for test_seed in [0, 1, 2, 3, 4]:\n",
    "            params_dict = {\n",
    "                \"env_str\": \"room_env:RoomEnv-v2\",\n",
    "                \"num_iterations\": num_iterations,\n",
    "                \"replay_buffer_size\": replay_buffer_size,\n",
    "                \"validation_starts_at\": validation_starts_at,\n",
    "                \"warm_start\": warm_start,\n",
    "                \"batch_size\": batch_size,\n",
    "                \"target_update_interval\": target_update_interval,\n",
    "                \"epsilon_decay_until\": num_iterations,\n",
    "                \"max_epsilon\": 1.0,\n",
    "                \"min_epsilon\": 0.1,\n",
    "                \"gamma\": gamma,\n",
    "                \"capacity\": {\"long\": capacity_max, \"short\": 15},\n",
    "                \"pretrain_semantic\": pretrain_semantic,\n",
    "                \"semantic_decay_factor\": semantic_decay_factor,\n",
    "                \"dqn_params\": {\n",
    "                    \"embedding_dim\": 10,\n",
    "                    \"num_layers_GNN\": 2,\n",
    "                    \"num_hidden_layers_MLP\": 1,\n",
    "                    \"dueling_dqn\": True,\n",
    "                },\n",
    "                \"num_samples_for_results\": {\"val\": 5, \"test\": 10},\n",
    "                \"validation_interval\": 5,\n",
    "                \"plotting_interval\": 50,\n",
    "                \"train_seed\": test_seed + 5,\n",
    "                \"test_seed\": test_seed,\n",
    "                \"device\": \"cpu\",\n",
    "                \"qa_function\": \"latest_strongest\",\n",
    "                \"env_config\": {\n",
    "                    \"question_prob\": 1.0,\n",
    "                    \"terminates_at\": terminates_at,\n",
    "                    \"randomize_observations\": \"all\",\n",
    "                    \"room_size\": room_size,\n",
    "                    \"rewards\": {\"correct\": 1, \"wrong\": 0, \"partial\": 0},\n",
    "                    \"make_everything_static\": False,\n",
    "                    \"num_total_questions\": 1000,\n",
    "                    \"question_interval\": 1,\n",
    "                    \"include_walls_in_observations\": True,\n",
    "                },\n",
    "                \"ddqn\": True,\n",
    "                \"default_root_dir\": root_path,\n",
    "            }\n",
    "\n",
    "            agent = DQNAgent(**params_dict)\n",
    "            agent.train()"
   ]
  },
  {
   "cell_type": "code",
   "execution_count": null,
   "metadata": {},
   "outputs": [],
   "source": []
  },
  {
   "cell_type": "code",
   "execution_count": null,
   "metadata": {},
   "outputs": [],
   "source": []
  }
 ],
 "metadata": {
  "kernelspec": {
   "display_name": "human-memory",
   "language": "python",
   "name": "python3"
  },
  "language_info": {
   "codemirror_mode": {
    "name": "ipython",
    "version": 3
   },
   "file_extension": ".py",
   "mimetype": "text/x-python",
   "name": "python",
   "nbconvert_exporter": "python",
   "pygments_lexer": "ipython3",
   "version": "3.10.12"
  }
 },
 "nbformat": 4,
 "nbformat_minor": 2
}
