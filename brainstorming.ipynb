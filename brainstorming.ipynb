{
 "cells": [
  {
   "cell_type": "code",
   "execution_count": 7,
   "metadata": {},
   "outputs": [
    {
     "name": "stderr",
     "output_type": "stream",
     "text": [
      "100%|██████████| 59780/59780 [05:01<00:00, 198.44it/s]\n"
     ]
    }
   ],
   "source": [
    "from glob import glob\n",
    "from humemai.utils import read_yaml\n",
    "from tqdm.auto import tqdm\n",
    "import random\n",
    "\n",
    "my_list = []\n",
    "paths = glob(\"training-results/*/*/*/*/*/*/*/*/*/*/last_memory_state.yaml\")\n",
    "random.shuffle(paths)\n",
    "\n",
    "for path in tqdm(paths):\n",
    "    if \"semantic_decay_factor=0.99\" not in path:\n",
    "        continue\n",
    "\n",
    "    foo = read_yaml(path)\n",
    "    foo = [bar[-1][\"strength\"] for bar in foo if \"strength\" in bar[-1]]\n",
    "\n",
    "    if foo:\n",
    "        max_strength = max(foo)\n",
    "        my_list.append(max_strength)\n"
   ]
  },
  {
   "cell_type": "code",
   "execution_count": 8,
   "metadata": {},
   "outputs": [
    {
     "data": {
      "text/plain": [
       "63.12883055522349"
      ]
     },
     "execution_count": 8,
     "metadata": {},
     "output_type": "execute_result"
    }
   ],
   "source": [
    "max(my_list)"
   ]
  }
 ],
 "metadata": {
  "kernelspec": {
   "display_name": "agent-room-env-v2-gnn",
   "language": "python",
   "name": "python3"
  },
  "language_info": {
   "codemirror_mode": {
    "name": "ipython",
    "version": 3
   },
   "file_extension": ".py",
   "mimetype": "text/x-python",
   "name": "python",
   "nbconvert_exporter": "python",
   "pygments_lexer": "ipython3",
   "version": "3.10.12"
  }
 },
 "nbformat": 4,
 "nbformat_minor": 2
}
