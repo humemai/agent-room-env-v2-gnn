{
 "cells": [
  {
   "cell_type": "code",
   "execution_count": null,
   "metadata": {},
   "outputs": [],
   "source": [
    "from agent.dqn import DQNAgent\n",
    "import logging\n",
    "\n",
    "# disable logging\n",
    "logging.disable(logging.CRITICAL)\n",
    "\n",
    "agent = DQNAgent(\n",
    "    default_root_dir=\"./training-results/TRASH\",\n",
    "    batch_size=128,\n",
    "    # plotting_interval=100\n",
    "    # num_iterations=200,\n",
    "    # replay_buffer_size=150,\n",
    "    # warm_start=100,\n",
    "    # batch_size=4,\n",
    "    # capacity={\"episodic\": 16, \"semantic\": 16, \"short\": 10},\n",
    "    # ddqn=True,\n",
    ")\n",
    "# agent.fill_replay_buffer()\n",
    "agent.train()"
   ]
  }
 ],
 "metadata": {
  "kernelspec": {
   "display_name": "agent-room-env-v2-gnn",
   "language": "python",
   "name": "python3"
  },
  "language_info": {
   "codemirror_mode": {
    "name": "ipython",
    "version": 3
   },
   "file_extension": ".py",
   "mimetype": "text/x-python",
   "name": "python",
   "nbconvert_exporter": "python",
   "pygments_lexer": "ipython3",
   "version": "3.10.12"
  }
 },
 "nbformat": 4,
 "nbformat_minor": 2
}
